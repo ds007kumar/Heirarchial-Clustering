{
 "cells": [
  {
   "cell_type": "markdown",
   "metadata": {},
   "source": [
    "# We will See analysis for customer Spend data: for Heirarchial clustering"
   ]
  },
  {
   "cell_type": "code",
   "execution_count": 4,
   "metadata": {},
   "outputs": [],
   "source": [
    "import pandas as pd"
   ]
  },
  {
   "cell_type": "code",
   "execution_count": 5,
   "metadata": {},
   "outputs": [],
   "source": [
    "import numpy as np"
   ]
  },
  {
   "cell_type": "code",
   "execution_count": 6,
   "metadata": {},
   "outputs": [],
   "source": [
    "import matplotlib.pyplot as plt \n",
    "%matplotlib inline"
   ]
  },
  {
   "cell_type": "markdown",
   "metadata": {},
   "source": [
    "#Using  Z score of from sci-fi particularliy \n",
    "beacuase we would want to normalize our input Data. We want to take each of the columns for \n",
    "any clustering Meachinism.\n",
    "As in most machine learning steps to be able to take each column and re write those columns in terms of Z score, Which is essentially\n",
    "every column number becomes the number \n",
    "of standard Deviation away from the mean of each column."
   ]
  },
  {
   "cell_type": "code",
   "execution_count": 7,
   "metadata": {},
   "outputs": [],
   "source": [
    "from scipy.stats import zscore"
   ]
  },
  {
   "cell_type": "code",
   "execution_count": 8,
   "metadata": {},
   "outputs": [],
   "source": [
    "import seaborn as sns"
   ]
  },
  {
   "cell_type": "markdown",
   "metadata": {},
   "source": [
    "Lets Load Entire Data Set\n",
    "It has 10 Customers Named a2j. What do they do?\n",
    "\n",
    "Each Customer has specific set of attributes, \n",
    "\n",
    "example on an average spins.\n",
    "Customer A\n",
    "It did ten thousends dollars monthly visists the store twice monthly\n",
    "fee talking about\n",
    "a particular retail store and there are three diffrent kinds of items that the store carries \n",
    "apple foods and vegetables and staples and what this is what \n",
    "they do customer type A never bought  staples but customer type B did not buy.\n",
    "any apple items but Bottle bunch of grocessires as you can see if you go through\n",
    " if you just eyeball this whole UT customer e also doing\n",
    "pretty much the same thing as customer A be maybe.\n",
    "So E also Doing pretty Much very Similar things.\n",
    "\n",
    "But Customer G and What was that E do say Spend Significantly less amount, you know lesser\n",
    "per month than a customer together.\n",
    "\n",
    "Target Certain Customers with certain ads trying to move customer to one group to another group trying to keep track.\n",
    "how one group eveloevs and so on so forth. So there's \n",
    "lot of Ineterest in trying to understand your \n",
    "customers beacuse that would be the first step in trying to take advantage of you know, whatever you might learn.\n",
    "\n",
    "look at all the column ... these are all Numerical, These are the column i really like to Isolate. \n",
    "\n",
    "If i take distance between 0 and 1 or customer A and B any kind of distance more specifically the euclidean distance Will \n",
    "be dominated by this beacuse this is 3000 units diffrent while this just nine units diffrent nine \n",
    "\n",
    "So this column Will Dominate any Measure of distance and therefore what will happen is things like this and this customer.\n",
    "\n",
    "Number 6 or 7 or G and H will be Incredibly Close to one another,\n",
    "even though all that other four columns are quite diffrent.\n",
    "\n",
    "But Becauseof the fact that these two are so close you ll end up avaergae.\n"
   ]
  },
  {
   "cell_type": "code",
   "execution_count": 9,
   "metadata": {
    "scrolled": true
   },
   "outputs": [
    {
     "data": {
      "text/html": [
       "<div>\n",
       "<style scoped>\n",
       "    .dataframe tbody tr th:only-of-type {\n",
       "        vertical-align: middle;\n",
       "    }\n",
       "\n",
       "    .dataframe tbody tr th {\n",
       "        vertical-align: top;\n",
       "    }\n",
       "\n",
       "    .dataframe thead th {\n",
       "        text-align: right;\n",
       "    }\n",
       "</style>\n",
       "<table border=\"1\" class=\"dataframe\">\n",
       "  <thead>\n",
       "    <tr style=\"text-align: right;\">\n",
       "      <th></th>\n",
       "      <th>Cust_ID</th>\n",
       "      <th>Name</th>\n",
       "      <th>Avg_Mthly_Spend</th>\n",
       "      <th>No_Of_Visits</th>\n",
       "      <th>Apparel_Items</th>\n",
       "      <th>FnV_Items</th>\n",
       "      <th>Staples_Items</th>\n",
       "    </tr>\n",
       "  </thead>\n",
       "  <tbody>\n",
       "    <tr>\n",
       "      <th>0</th>\n",
       "      <td>1</td>\n",
       "      <td>A</td>\n",
       "      <td>10000</td>\n",
       "      <td>2</td>\n",
       "      <td>1</td>\n",
       "      <td>1</td>\n",
       "      <td>0</td>\n",
       "    </tr>\n",
       "    <tr>\n",
       "      <th>1</th>\n",
       "      <td>2</td>\n",
       "      <td>B</td>\n",
       "      <td>7000</td>\n",
       "      <td>3</td>\n",
       "      <td>0</td>\n",
       "      <td>10</td>\n",
       "      <td>9</td>\n",
       "    </tr>\n",
       "    <tr>\n",
       "      <th>2</th>\n",
       "      <td>3</td>\n",
       "      <td>C</td>\n",
       "      <td>7000</td>\n",
       "      <td>7</td>\n",
       "      <td>1</td>\n",
       "      <td>3</td>\n",
       "      <td>4</td>\n",
       "    </tr>\n",
       "    <tr>\n",
       "      <th>3</th>\n",
       "      <td>4</td>\n",
       "      <td>D</td>\n",
       "      <td>6500</td>\n",
       "      <td>5</td>\n",
       "      <td>1</td>\n",
       "      <td>1</td>\n",
       "      <td>4</td>\n",
       "    </tr>\n",
       "    <tr>\n",
       "      <th>4</th>\n",
       "      <td>5</td>\n",
       "      <td>E</td>\n",
       "      <td>6000</td>\n",
       "      <td>6</td>\n",
       "      <td>0</td>\n",
       "      <td>12</td>\n",
       "      <td>3</td>\n",
       "    </tr>\n",
       "    <tr>\n",
       "      <th>5</th>\n",
       "      <td>6</td>\n",
       "      <td>F</td>\n",
       "      <td>4000</td>\n",
       "      <td>3</td>\n",
       "      <td>0</td>\n",
       "      <td>1</td>\n",
       "      <td>8</td>\n",
       "    </tr>\n",
       "    <tr>\n",
       "      <th>6</th>\n",
       "      <td>7</td>\n",
       "      <td>G</td>\n",
       "      <td>2500</td>\n",
       "      <td>5</td>\n",
       "      <td>0</td>\n",
       "      <td>11</td>\n",
       "      <td>2</td>\n",
       "    </tr>\n",
       "    <tr>\n",
       "      <th>7</th>\n",
       "      <td>8</td>\n",
       "      <td>H</td>\n",
       "      <td>2500</td>\n",
       "      <td>3</td>\n",
       "      <td>0</td>\n",
       "      <td>1</td>\n",
       "      <td>1</td>\n",
       "    </tr>\n",
       "    <tr>\n",
       "      <th>8</th>\n",
       "      <td>9</td>\n",
       "      <td>I</td>\n",
       "      <td>2000</td>\n",
       "      <td>2</td>\n",
       "      <td>0</td>\n",
       "      <td>2</td>\n",
       "      <td>2</td>\n",
       "    </tr>\n",
       "    <tr>\n",
       "      <th>9</th>\n",
       "      <td>10</td>\n",
       "      <td>J</td>\n",
       "      <td>1000</td>\n",
       "      <td>4</td>\n",
       "      <td>0</td>\n",
       "      <td>1</td>\n",
       "      <td>7</td>\n",
       "    </tr>\n",
       "  </tbody>\n",
       "</table>\n",
       "</div>"
      ],
      "text/plain": [
       "   Cust_ID Name  Avg_Mthly_Spend  No_Of_Visits  Apparel_Items  FnV_Items  \\\n",
       "0        1    A            10000             2              1          1   \n",
       "1        2    B             7000             3              0         10   \n",
       "2        3    C             7000             7              1          3   \n",
       "3        4    D             6500             5              1          1   \n",
       "4        5    E             6000             6              0         12   \n",
       "5        6    F             4000             3              0          1   \n",
       "6        7    G             2500             5              0         11   \n",
       "7        8    H             2500             3              0          1   \n",
       "8        9    I             2000             2              0          2   \n",
       "9       10    J             1000             4              0          1   \n",
       "\n",
       "   Staples_Items  \n",
       "0              0  \n",
       "1              9  \n",
       "2              4  \n",
       "3              4  \n",
       "4              3  \n",
       "5              8  \n",
       "6              2  \n",
       "7              1  \n",
       "8              2  \n",
       "9              7  "
      ]
     },
     "execution_count": 9,
     "metadata": {},
     "output_type": "execute_result"
    }
   ],
   "source": [
    "# reading the CSV file into pandas dataframe\n",
    "custData = pd.read_csv(\"Cust_Spend_Data.csv\") \n",
    "custData.head(10)"
   ]
  },
  {
   "cell_type": "markdown",
   "metadata": {},
   "source": [
    "Removing Categorical Variable: Removing Name and Customer ID"
   ]
  },
  {
   "cell_type": "code",
   "execution_count": 10,
   "metadata": {},
   "outputs": [
    {
     "data": {
      "text/html": [
       "<div>\n",
       "<style scoped>\n",
       "    .dataframe tbody tr th:only-of-type {\n",
       "        vertical-align: middle;\n",
       "    }\n",
       "\n",
       "    .dataframe tbody tr th {\n",
       "        vertical-align: top;\n",
       "    }\n",
       "\n",
       "    .dataframe thead th {\n",
       "        text-align: right;\n",
       "    }\n",
       "</style>\n",
       "<table border=\"1\" class=\"dataframe\">\n",
       "  <thead>\n",
       "    <tr style=\"text-align: right;\">\n",
       "      <th></th>\n",
       "      <th>Avg_Mthly_Spend</th>\n",
       "      <th>No_Of_Visits</th>\n",
       "      <th>Apparel_Items</th>\n",
       "      <th>FnV_Items</th>\n",
       "      <th>Staples_Items</th>\n",
       "    </tr>\n",
       "  </thead>\n",
       "  <tbody>\n",
       "    <tr>\n",
       "      <th>0</th>\n",
       "      <td>10000</td>\n",
       "      <td>2</td>\n",
       "      <td>1</td>\n",
       "      <td>1</td>\n",
       "      <td>0</td>\n",
       "    </tr>\n",
       "    <tr>\n",
       "      <th>1</th>\n",
       "      <td>7000</td>\n",
       "      <td>3</td>\n",
       "      <td>0</td>\n",
       "      <td>10</td>\n",
       "      <td>9</td>\n",
       "    </tr>\n",
       "    <tr>\n",
       "      <th>2</th>\n",
       "      <td>7000</td>\n",
       "      <td>7</td>\n",
       "      <td>1</td>\n",
       "      <td>3</td>\n",
       "      <td>4</td>\n",
       "    </tr>\n",
       "    <tr>\n",
       "      <th>3</th>\n",
       "      <td>6500</td>\n",
       "      <td>5</td>\n",
       "      <td>1</td>\n",
       "      <td>1</td>\n",
       "      <td>4</td>\n",
       "    </tr>\n",
       "    <tr>\n",
       "      <th>4</th>\n",
       "      <td>6000</td>\n",
       "      <td>6</td>\n",
       "      <td>0</td>\n",
       "      <td>12</td>\n",
       "      <td>3</td>\n",
       "    </tr>\n",
       "  </tbody>\n",
       "</table>\n",
       "</div>"
      ],
      "text/plain": [
       "   Avg_Mthly_Spend  No_Of_Visits  Apparel_Items  FnV_Items  Staples_Items\n",
       "0            10000             2              1          1              0\n",
       "1             7000             3              0         10              9\n",
       "2             7000             7              1          3              4\n",
       "3             6500             5              1          1              4\n",
       "4             6000             6              0         12              3"
      ]
     },
     "execution_count": 10,
     "metadata": {},
     "output_type": "execute_result"
    }
   ],
   "source": [
    "\n",
    "custDataAttr=custData.iloc[:,2:]\n",
    "custDataAttr.head()\n",
    "\n"
   ]
  },
  {
   "cell_type": "markdown",
   "metadata": {},
   "source": [
    "Applying Z score is done for scaling the Data Xi"
   ]
  },
  {
   "cell_type": "code",
   "execution_count": 11,
   "metadata": {},
   "outputs": [
    {
     "data": {
      "text/html": [
       "<div>\n",
       "<style scoped>\n",
       "    .dataframe tbody tr th:only-of-type {\n",
       "        vertical-align: middle;\n",
       "    }\n",
       "\n",
       "    .dataframe tbody tr th {\n",
       "        vertical-align: top;\n",
       "    }\n",
       "\n",
       "    .dataframe thead th {\n",
       "        text-align: right;\n",
       "    }\n",
       "</style>\n",
       "<table border=\"1\" class=\"dataframe\">\n",
       "  <thead>\n",
       "    <tr style=\"text-align: right;\">\n",
       "      <th></th>\n",
       "      <th>Avg_Mthly_Spend</th>\n",
       "      <th>No_Of_Visits</th>\n",
       "      <th>Apparel_Items</th>\n",
       "      <th>FnV_Items</th>\n",
       "      <th>Staples_Items</th>\n",
       "    </tr>\n",
       "  </thead>\n",
       "  <tbody>\n",
       "    <tr>\n",
       "      <th>0</th>\n",
       "      <td>1.886498</td>\n",
       "      <td>-1.240347</td>\n",
       "      <td>1.527525</td>\n",
       "      <td>-0.741433</td>\n",
       "      <td>-1.380131</td>\n",
       "    </tr>\n",
       "    <tr>\n",
       "      <th>1</th>\n",
       "      <td>0.787567</td>\n",
       "      <td>-0.620174</td>\n",
       "      <td>-0.654654</td>\n",
       "      <td>1.280656</td>\n",
       "      <td>1.725164</td>\n",
       "    </tr>\n",
       "    <tr>\n",
       "      <th>2</th>\n",
       "      <td>0.787567</td>\n",
       "      <td>1.860521</td>\n",
       "      <td>1.527525</td>\n",
       "      <td>-0.292080</td>\n",
       "      <td>0.000000</td>\n",
       "    </tr>\n",
       "    <tr>\n",
       "      <th>3</th>\n",
       "      <td>0.604412</td>\n",
       "      <td>0.620174</td>\n",
       "      <td>1.527525</td>\n",
       "      <td>-0.741433</td>\n",
       "      <td>0.000000</td>\n",
       "    </tr>\n",
       "    <tr>\n",
       "      <th>4</th>\n",
       "      <td>0.421257</td>\n",
       "      <td>1.240347</td>\n",
       "      <td>-0.654654</td>\n",
       "      <td>1.730009</td>\n",
       "      <td>-0.345033</td>\n",
       "    </tr>\n",
       "    <tr>\n",
       "      <th>5</th>\n",
       "      <td>-0.311364</td>\n",
       "      <td>-0.620174</td>\n",
       "      <td>-0.654654</td>\n",
       "      <td>-0.741433</td>\n",
       "      <td>1.380131</td>\n",
       "    </tr>\n",
       "    <tr>\n",
       "      <th>6</th>\n",
       "      <td>-0.860829</td>\n",
       "      <td>0.620174</td>\n",
       "      <td>-0.654654</td>\n",
       "      <td>1.505333</td>\n",
       "      <td>-0.690066</td>\n",
       "    </tr>\n",
       "    <tr>\n",
       "      <th>7</th>\n",
       "      <td>-0.860829</td>\n",
       "      <td>-0.620174</td>\n",
       "      <td>-0.654654</td>\n",
       "      <td>-0.741433</td>\n",
       "      <td>-1.035098</td>\n",
       "    </tr>\n",
       "    <tr>\n",
       "      <th>8</th>\n",
       "      <td>-1.043984</td>\n",
       "      <td>-1.240347</td>\n",
       "      <td>-0.654654</td>\n",
       "      <td>-0.516756</td>\n",
       "      <td>-0.690066</td>\n",
       "    </tr>\n",
       "    <tr>\n",
       "      <th>9</th>\n",
       "      <td>-1.410294</td>\n",
       "      <td>0.000000</td>\n",
       "      <td>-0.654654</td>\n",
       "      <td>-0.741433</td>\n",
       "      <td>1.035098</td>\n",
       "    </tr>\n",
       "  </tbody>\n",
       "</table>\n",
       "</div>"
      ],
      "text/plain": [
       "   Avg_Mthly_Spend  No_Of_Visits  Apparel_Items  FnV_Items  Staples_Items\n",
       "0         1.886498     -1.240347       1.527525  -0.741433      -1.380131\n",
       "1         0.787567     -0.620174      -0.654654   1.280656       1.725164\n",
       "2         0.787567      1.860521       1.527525  -0.292080       0.000000\n",
       "3         0.604412      0.620174       1.527525  -0.741433       0.000000\n",
       "4         0.421257      1.240347      -0.654654   1.730009      -0.345033\n",
       "5        -0.311364     -0.620174      -0.654654  -0.741433       1.380131\n",
       "6        -0.860829      0.620174      -0.654654   1.505333      -0.690066\n",
       "7        -0.860829     -0.620174      -0.654654  -0.741433      -1.035098\n",
       "8        -1.043984     -1.240347      -0.654654  -0.516756      -0.690066\n",
       "9        -1.410294      0.000000      -0.654654  -0.741433       1.035098"
      ]
     },
     "execution_count": 11,
     "metadata": {},
     "output_type": "execute_result"
    }
   ],
   "source": [
    "custDataScaled=custDataAttr.apply(zscore)\n",
    "custDataScaled.head(10)"
   ]
  },
  {
   "cell_type": "markdown",
   "metadata": {},
   "source": [
    "WIth Pair plot We can find diagonally for Cluster available by density plot.\n",
    "\n",
    "\n",
    "We will Do here see the daiognal ....we see the margin\n",
    "\n",
    "So all of these would kind of give you an insight into how many Clusters you might need \n",
    "\n",
    "\n",
    "Even the marginals of apple items has at least two diffrent distributions that have one group\n",
    "around this and another group around this at to you know, You can go buy a picture by Pictures...this one give you number of clusters you need to this is to.\n",
    "\n",
    "Then you might want to do 3D packed lots of Cadiz, you know, you might want to do Y axis which is the density with two diffrent x axis.\n",
    "\n",
    "Which is probably you know, Apples items \n",
    "and Foods and Vegetable items or something like that to get a better and better sense of how.\n",
    "\n",
    "In this analysis we are going to try whole bunch of clusters and use the elbow method to essentially argue to ourselves, Which is the best.\n",
    "distnace measure and so on.\n",
    "\n",
    "Function  Digonal = KDE\n",
    "\n",
    "\n",
    "Then you might want to do 3D packed lots of Cadiz, you know, you might want to do Y axis which is the density with two diffrent x axis.\n",
    "\n",
    "Which is probably you know, Apples items \n",
    "and Foods and Vegetable items or something like that to get a better and better sense of how.\n",
    "\n"
   ]
  },
  {
   "cell_type": "code",
   "execution_count": 12,
   "metadata": {
    "scrolled": true
   },
   "outputs": [
    {
     "data": {
      "text/plain": [
       "<seaborn.axisgrid.PairGrid at 0x26bd53f25f8>"
      ]
     },
     "execution_count": 12,
     "metadata": {},
     "output_type": "execute_result"
    },
    {
     "data": {
      "image/png": "[encoded data removed]",
      "text/plain": [
       "<Figure size 1440x720 with 30 Axes>"
      ]
     },
     "metadata": {
      "needs_background": "light"
     },
     "output_type": "display_data"
    }
   ],
   "source": [
    "#importing seaborn for statistical plots\n",
    "sns.pairplot(custDataScaled, height=2,aspect=2 , diag_kind='kde')"
   ]
  },
  {
   "cell_type": "markdown",
   "metadata": {},
   "source": [
    "# Agglomerative : Bottom to top approch: Start with diffrent clusters                                                                             #Divisive: Top to bottom Approch: Start with one cluseter and further divides in to diffrent clusters"
   ]
  },
  {
   "cell_type": "markdown",
   "metadata": {},
   "source": [
    "In this analysis we are going to try whole bunch of clusters and use the elbow method to essentially argue to ourselves, We are going to Import Agglomerative clustering Package from Sclearn.\n",
    "\n",
    "...The AgglomerativeClustering object performs a hierarchical clustering using a bottom up approach: each observation starts in its own cluster, and clusters are successively merged together. The linkage criteria determines the metric used for the merge strategy:\n",
    "\n",
    "Ward minimizes the sum of squared differences within all clusters. It is a variance-minimizing approach and in this sense is similar to the k-means objective function but tackled with an agglomerative hierarchical approach.\n",
    "Maximum or complete linkage minimizes the maximum distance between observations of pairs of clusters.\n",
    "Average linkage minimizes the average of the distances between all observations of pairs of clusters.\n",
    "Single linkage minimizes the distance between the closest observations of pairs of clusters.\n",
    "AgglomerativeClustering can also scale to large number of samples when it is used jointly with a connectivity matrix, but is computationally expensive when no connectivity constraints are added between samples: it considers at each step all the possible merges."
   ]
  },
  {
   "cell_type": "code",
   "execution_count": 12,
   "metadata": {},
   "outputs": [],
   "source": [
    "from sklearn.cluster import AgglomerativeClustering "
   ]
  },
  {
   "cell_type": "markdown",
   "metadata": {},
   "source": [
    "Which is the best.\n",
    "distnace measure and so on here we taking cluster =3, We will try to find eigen value and vectros for dataset and then go find the real k by elbow method.\n"
   ]
  },
  {
   "cell_type": "code",
   "execution_count": 19,
   "metadata": {},
   "outputs": [],
   "source": [
    "model = AgglomerativeClustering(n_clusters=3, affinity='euclidean',  linkage='average')"
   ]
  },
  {
   "cell_type": "markdown",
   "metadata": {},
   "source": [
    "Insert the scaled data into fit model."
   ]
  },
  {
   "cell_type": "code",
   "execution_count": 20,
   "metadata": {},
   "outputs": [
    {
     "data": {
      "text/plain": [
       "AgglomerativeClustering(affinity='euclidean', compute_full_tree='auto',\n",
       "            connectivity=None, linkage='average', memory=None,\n",
       "            n_clusters=3, pooling_func='deprecated')"
      ]
     },
     "execution_count": 20,
     "metadata": {},
     "output_type": "execute_result"
    }
   ],
   "source": [
    "model.fit(custDataScaled)"
   ]
  },
  {
   "cell_type": "code",
   "execution_count": 21,
   "metadata": {},
   "outputs": [
    {
     "data": {
      "text/html": [
       "<div>\n",
       "<style scoped>\n",
       "    .dataframe tbody tr th:only-of-type {\n",
       "        vertical-align: middle;\n",
       "    }\n",
       "\n",
       "    .dataframe tbody tr th {\n",
       "        vertical-align: top;\n",
       "    }\n",
       "\n",
       "    .dataframe thead th {\n",
       "        text-align: right;\n",
       "    }\n",
       "</style>\n",
       "<table border=\"1\" class=\"dataframe\">\n",
       "  <thead>\n",
       "    <tr style=\"text-align: right;\">\n",
       "      <th></th>\n",
       "      <th>Avg_Mthly_Spend</th>\n",
       "      <th>No_Of_Visits</th>\n",
       "      <th>Apparel_Items</th>\n",
       "      <th>FnV_Items</th>\n",
       "      <th>Staples_Items</th>\n",
       "      <th>labels</th>\n",
       "    </tr>\n",
       "  </thead>\n",
       "  <tbody>\n",
       "    <tr>\n",
       "      <th>0</th>\n",
       "      <td>10000</td>\n",
       "      <td>2</td>\n",
       "      <td>1</td>\n",
       "      <td>1</td>\n",
       "      <td>0</td>\n",
       "      <td>0</td>\n",
       "    </tr>\n",
       "    <tr>\n",
       "      <th>1</th>\n",
       "      <td>7000</td>\n",
       "      <td>3</td>\n",
       "      <td>0</td>\n",
       "      <td>10</td>\n",
       "      <td>9</td>\n",
       "      <td>1</td>\n",
       "    </tr>\n",
       "    <tr>\n",
       "      <th>2</th>\n",
       "      <td>7000</td>\n",
       "      <td>7</td>\n",
       "      <td>1</td>\n",
       "      <td>3</td>\n",
       "      <td>4</td>\n",
       "      <td>0</td>\n",
       "    </tr>\n",
       "    <tr>\n",
       "      <th>3</th>\n",
       "      <td>6500</td>\n",
       "      <td>5</td>\n",
       "      <td>1</td>\n",
       "      <td>1</td>\n",
       "      <td>4</td>\n",
       "      <td>0</td>\n",
       "    </tr>\n",
       "    <tr>\n",
       "      <th>4</th>\n",
       "      <td>6000</td>\n",
       "      <td>6</td>\n",
       "      <td>0</td>\n",
       "      <td>12</td>\n",
       "      <td>3</td>\n",
       "      <td>1</td>\n",
       "    </tr>\n",
       "    <tr>\n",
       "      <th>5</th>\n",
       "      <td>4000</td>\n",
       "      <td>3</td>\n",
       "      <td>0</td>\n",
       "      <td>1</td>\n",
       "      <td>8</td>\n",
       "      <td>2</td>\n",
       "    </tr>\n",
       "    <tr>\n",
       "      <th>6</th>\n",
       "      <td>2500</td>\n",
       "      <td>5</td>\n",
       "      <td>0</td>\n",
       "      <td>11</td>\n",
       "      <td>2</td>\n",
       "      <td>1</td>\n",
       "    </tr>\n",
       "    <tr>\n",
       "      <th>7</th>\n",
       "      <td>2500</td>\n",
       "      <td>3</td>\n",
       "      <td>0</td>\n",
       "      <td>1</td>\n",
       "      <td>1</td>\n",
       "      <td>2</td>\n",
       "    </tr>\n",
       "    <tr>\n",
       "      <th>8</th>\n",
       "      <td>2000</td>\n",
       "      <td>2</td>\n",
       "      <td>0</td>\n",
       "      <td>2</td>\n",
       "      <td>2</td>\n",
       "      <td>2</td>\n",
       "    </tr>\n",
       "    <tr>\n",
       "      <th>9</th>\n",
       "      <td>1000</td>\n",
       "      <td>4</td>\n",
       "      <td>0</td>\n",
       "      <td>1</td>\n",
       "      <td>7</td>\n",
       "      <td>2</td>\n",
       "    </tr>\n",
       "  </tbody>\n",
       "</table>\n",
       "</div>"
      ],
      "text/plain": [
       "   Avg_Mthly_Spend  No_Of_Visits  Apparel_Items  FnV_Items  Staples_Items  \\\n",
       "0            10000             2              1          1              0   \n",
       "1             7000             3              0         10              9   \n",
       "2             7000             7              1          3              4   \n",
       "3             6500             5              1          1              4   \n",
       "4             6000             6              0         12              3   \n",
       "5             4000             3              0          1              8   \n",
       "6             2500             5              0         11              2   \n",
       "7             2500             3              0          1              1   \n",
       "8             2000             2              0          2              2   \n",
       "9             1000             4              0          1              7   \n",
       "\n",
       "   labels  \n",
       "0       0  \n",
       "1       1  \n",
       "2       0  \n",
       "3       0  \n",
       "4       1  \n",
       "5       2  \n",
       "6       1  \n",
       "7       2  \n",
       "8       2  \n",
       "9       2  "
      ]
     },
     "execution_count": 21,
     "metadata": {},
     "output_type": "execute_result"
    }
   ],
   "source": [
    "custDataAttr['labels'] = model.labels_\n",
    "custDataAttr.head(10)\n",
    "\n",
    "#custDataAttr.groupby([\"labels\"]).count()"
   ]
  },
  {
   "cell_type": "markdown",
   "metadata": {},
   "source": [
    "Grouping by Labels as which cluster it belongs to: labels 0,1,2"
   ]
  },
  {
   "cell_type": "code",
   "execution_count": 22,
   "metadata": {},
   "outputs": [],
   "source": [
    "custDataClust = custDataAttr.groupby(['labels'])"
   ]
  },
  {
   "cell_type": "markdown",
   "metadata": {},
   "source": [
    "we take mean for each group/labels for 0,1 ,2"
   ]
  },
  {
   "cell_type": "code",
   "execution_count": 25,
   "metadata": {},
   "outputs": [
    {
     "data": {
      "text/html": [
       "<div>\n",
       "<style scoped>\n",
       "    .dataframe tbody tr th:only-of-type {\n",
       "        vertical-align: middle;\n",
       "    }\n",
       "\n",
       "    .dataframe tbody tr th {\n",
       "        vertical-align: top;\n",
       "    }\n",
       "\n",
       "    .dataframe thead th {\n",
       "        text-align: right;\n",
       "    }\n",
       "</style>\n",
       "<table border=\"1\" class=\"dataframe\">\n",
       "  <thead>\n",
       "    <tr style=\"text-align: right;\">\n",
       "      <th></th>\n",
       "      <th>Avg_Mthly_Spend</th>\n",
       "      <th>No_Of_Visits</th>\n",
       "      <th>Apparel_Items</th>\n",
       "      <th>FnV_Items</th>\n",
       "      <th>Staples_Items</th>\n",
       "    </tr>\n",
       "    <tr>\n",
       "      <th>labels</th>\n",
       "      <th></th>\n",
       "      <th></th>\n",
       "      <th></th>\n",
       "      <th></th>\n",
       "      <th></th>\n",
       "    </tr>\n",
       "  </thead>\n",
       "  <tbody>\n",
       "    <tr>\n",
       "      <th>0</th>\n",
       "      <td>7833.333333</td>\n",
       "      <td>4.666667</td>\n",
       "      <td>1.0</td>\n",
       "      <td>1.666667</td>\n",
       "      <td>2.666667</td>\n",
       "    </tr>\n",
       "    <tr>\n",
       "      <th>1</th>\n",
       "      <td>5166.666667</td>\n",
       "      <td>4.666667</td>\n",
       "      <td>0.0</td>\n",
       "      <td>11.000000</td>\n",
       "      <td>4.666667</td>\n",
       "    </tr>\n",
       "    <tr>\n",
       "      <th>2</th>\n",
       "      <td>2375.000000</td>\n",
       "      <td>3.000000</td>\n",
       "      <td>0.0</td>\n",
       "      <td>1.250000</td>\n",
       "      <td>4.500000</td>\n",
       "    </tr>\n",
       "  </tbody>\n",
       "</table>\n",
       "</div>"
      ],
      "text/plain": [
       "        Avg_Mthly_Spend  No_Of_Visits  Apparel_Items  FnV_Items  Staples_Items\n",
       "labels                                                                        \n",
       "0           7833.333333      4.666667            1.0   1.666667       2.666667\n",
       "1           5166.666667      4.666667            0.0  11.000000       4.666667\n",
       "2           2375.000000      3.000000            0.0   1.250000       4.500000"
      ]
     },
     "execution_count": 25,
     "metadata": {},
     "output_type": "execute_result"
    }
   ],
   "source": [
    "custDataClust.mean()"
   ]
  },
  {
   "cell_type": "markdown",
   "metadata": {},
   "source": [
    "Import Distane calculate package: Cophenet\n"
   ]
  },
  {
   "cell_type": "code",
   "execution_count": 26,
   "metadata": {},
   "outputs": [],
   "source": [
    "from scipy.cluster.hierarchy import cophenet, dendrogram, linkage"
   ]
  },
  {
   "cell_type": "markdown",
   "metadata": {},
   "source": [
    "#Pairwise distribution between data points"
   ]
  },
  {
   "cell_type": "markdown",
   "metadata": {},
   "source": [
    "pdist calculate the distnace pair wise between in cluster and Find co- relation "
   ]
  },
  {
   "cell_type": "code",
   "execution_count": 27,
   "metadata": {},
   "outputs": [],
   "source": [
    "from scipy.spatial.distance import pdist  "
   ]
  },
  {
   "cell_type": "code",
   "execution_count": 29,
   "metadata": {},
   "outputs": [
    {
     "data": {
      "text/plain": [
       "0.8681149436293064"
      ]
     },
     "execution_count": 29,
     "metadata": {},
     "output_type": "execute_result"
    }
   ],
   "source": [
    "# cophenet index is a measure of the correlation between the distance of points in feature space and distance on dendrogram\n",
    "# closer it is to 1, the better is the clustering\n",
    "\n",
    "Z = linkage(custDataScaled, metric='euclidean', method='average')\n",
    "c, coph_dists = cophenet(Z , pdist(custDataScaled))\n",
    "\n",
    "c"
   ]
  },
  {
   "cell_type": "markdown",
   "metadata": {},
   "source": [
    "Design the dendo gram , As we have distnace between datapoint Avaerage linkage and Pair wise distance between clusters."
   ]
  },
  {
   "cell_type": "markdown",
   "metadata": {},
   "source": [
    "# Dendogram: Dendo gram is used to represent distance between  two points cluster , The dendogram corresponding to highest corelation coefficient is considered to be betterr representative of the clustered data and is used to produce label."
   ]
  },
  {
   "cell_type": "code",
   "execution_count": 30,
   "metadata": {},
   "outputs": [
    {
     "data": {
      "image/png": "[encoded data removed]",
      "text/plain": [
       "<Figure size 720x360 with 1 Axes>"
      ]
     },
     "metadata": {
      "needs_background": "light"
     },
     "output_type": "display_data"
    }
   ],
   "source": [
    "plt.figure(figsize=(10, 5))\n",
    "plt.title('Agglomerative Hierarchical Clustering Dendogram')\n",
    "plt.xlabel('sample index')\n",
    "plt.ylabel('Distance')\n",
    "dendrogram(Z, leaf_rotation=90.,color_threshold = 40, leaf_font_size=8. )\n",
    "plt.tight_layout()"
   ]
  },
  {
   "cell_type": "markdown",
   "metadata": {},
   "source": [
    "# Cophenetic Correlation Computes the correlation between the euclidean distnace and dendogram distance for a particular dendogram of all possible pair of points"
   ]
  },
  {
   "cell_type": "markdown",
   "metadata": {},
   "source": [
    "Now we take Method = Complete ... for forming a dendogram by this distance method"
   ]
  },
  {
   "cell_type": "code",
   "execution_count": 31,
   "metadata": {},
   "outputs": [
    {
     "data": {
      "text/plain": [
       "0.8606955190809153"
      ]
     },
     "execution_count": 31,
     "metadata": {},
     "output_type": "execute_result"
    }
   ],
   "source": [
    "# cophenet index is a measure of the correlation between the distance of points in feature space and distance on dendrogram\n",
    "# closer it is to 1, the better is the clustering\n",
    "\n",
    "Z = linkage(custDataScaled, metric='euclidean', method='complete')\n",
    "c, coph_dists = cophenet(Z , pdist(custDataScaled))\n",
    "\n",
    "c"
   ]
  },
  {
   "cell_type": "code",
   "execution_count": 32,
   "metadata": {},
   "outputs": [
    {
     "data": {
      "image/png": "[encoded data removed]",
      "text/plain": [
       "<Figure size 720x360 with 1 Axes>"
      ]
     },
     "metadata": {
      "needs_background": "light"
     },
     "output_type": "display_data"
    }
   ],
   "source": [
    "plt.figure(figsize=(10, 5))\n",
    "plt.title('Agglomerative Hierarchical Clustering Dendogram')\n",
    "plt.xlabel('sample index')\n",
    "plt.ylabel('Distance')\n",
    "dendrogram(Z, leaf_rotation=90.,color_threshold=90,  leaf_font_size=10. )\n",
    "plt.tight_layout()"
   ]
  },
  {
   "cell_type": "markdown",
   "metadata": {},
   "source": [
    "This time we take distance method= Ward"
   ]
  },
  {
   "cell_type": "code",
   "execution_count": 33,
   "metadata": {},
   "outputs": [
    {
     "data": {
      "text/plain": [
       "0.8453818941339526"
      ]
     },
     "execution_count": 33,
     "metadata": {},
     "output_type": "execute_result"
    }
   ],
   "source": [
    "# cophenet index is a measure of the correlation between the distance of points in feature space and distance on dendrogram\n",
    "# closer it is to 1, the better is the clustering\n",
    "\n",
    "Z = linkage(custDataScaled, metric='euclidean', method='ward')\n",
    "c, coph_dists = cophenet(Z , pdist(custDataScaled))\n",
    "\n",
    "c"
   ]
  },
  {
   "cell_type": "code",
   "execution_count": 34,
   "metadata": {},
   "outputs": [
    {
     "data": {
      "image/png": "[encoded data removed]",
      "text/plain": [
       "<Figure size 720x360 with 1 Axes>"
      ]
     },
     "metadata": {
      "needs_background": "light"
     },
     "output_type": "display_data"
    }
   ],
   "source": [
    "plt.figure(figsize=(10, 5))\n",
    "plt.title('Agglomerative Hierarchical Clustering Dendogram')\n",
    "plt.xlabel('sample index')\n",
    "plt.ylabel('Distance')\n",
    "dendrogram(Z, leaf_rotation=90.,color_threshold=600,  leaf_font_size=10. )\n",
    "plt.tight_layout()"
   ]
  },
  {
   "cell_type": "code",
   "execution_count": null,
   "metadata": {},
   "outputs": [],
   "source": []
  }
 ],
 "metadata": {
  "kernelspec": {
   "display_name": "Python 3",
   "language": "python",
   "name": "python3"
  },
  "language_info": {
   "codemirror_mode": {
    "name": "ipython",
    "version": 3
   },
   "file_extension": ".py",
   "mimetype": "text/x-python",
   "name": "python",
   "nbconvert_exporter": "python",
   "pygments_lexer": "ipython3",
   "version": "3.6.8"
  }
 },
 "nbformat": 4,
 "nbformat_minor": 2
}
